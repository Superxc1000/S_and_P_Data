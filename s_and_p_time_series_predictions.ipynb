{
 "cells": [
  {
   "cell_type": "code",
   "execution_count": 51,
   "metadata": {},
   "outputs": [],
   "source": [
    "import pandas as pd\n",
    "import sqlite3\n",
    "from prophet import Prophet # type: ignore"
   ]
  },
  {
   "cell_type": "code",
   "execution_count": 56,
   "metadata": {},
   "outputs": [],
   "source": [
    "conn = sqlite3.connect('./data/trader_data.db')\n",
    "\n",
    "query = \"\"\"SELECT \n",
    "                 ticker\n",
    "                ,ROUND(close, 2) as Close\n",
    "                ,DATE(Date) AS Date\n",
    "                ,GICSSector\n",
    "                ,GICSSectorSub\n",
    "                 CompanyName\n",
    "            FROM equity \n",
    "            WHERE (1=1)\n",
    "                AND Date > '2024-01-01'\n",
    "                AND close IS NOT NULL\"\"\"\n",
    "\n",
    "data = pd.read_sql_query(query, conn)\n",
    "\n",
    "ticker_list_df = pd.read_sql_query(\"SELECT DISTINCT ticker FROM equity\", conn)"
   ]
  },
  {
   "cell_type": "code",
   "execution_count": 57,
   "metadata": {},
   "outputs": [
    {
     "name": "stderr",
     "output_type": "stream",
     "text": [
      "16:17:20 - cmdstanpy - INFO - Chain [1] start processing\n",
      "16:17:20 - cmdstanpy - INFO - Chain [1] done processing\n",
      "16:17:20 - cmdstanpy - INFO - Chain [1] start processing\n",
      "16:17:20 - cmdstanpy - INFO - Chain [1] done processing\n"
     ]
    },
    {
     "name": "stdout",
     "output_type": "stream",
     "text": [
      "0.0\n",
      "0.0019880715705765406\n",
      "0.003976143141153081\n"
     ]
    },
    {
     "name": "stderr",
     "output_type": "stream",
     "text": [
      "16:17:21 - cmdstanpy - INFO - Chain [1] start processing\n",
      "16:17:21 - cmdstanpy - INFO - Chain [1] done processing\n",
      "16:17:21 - cmdstanpy - INFO - Chain [1] start processing\n",
      "16:17:21 - cmdstanpy - INFO - Chain [1] done processing\n",
      "16:17:21 - cmdstanpy - INFO - Chain [1] start processing\n",
      "16:17:21 - cmdstanpy - INFO - Chain [1] done processing\n",
      "16:17:21 - cmdstanpy - INFO - Chain [1] start processing\n"
     ]
    },
    {
     "name": "stdout",
     "output_type": "stream",
     "text": [
      "0.005964214711729622\n",
      "0.007952286282306162\n",
      "0.009940357852882704\n"
     ]
    },
    {
     "name": "stderr",
     "output_type": "stream",
     "text": [
      "16:17:21 - cmdstanpy - INFO - Chain [1] done processing\n",
      "16:17:21 - cmdstanpy - INFO - Chain [1] start processing\n",
      "16:17:21 - cmdstanpy - INFO - Chain [1] done processing\n",
      "16:17:21 - cmdstanpy - INFO - Chain [1] start processing\n",
      "16:17:21 - cmdstanpy - INFO - Chain [1] done processing\n",
      "16:17:21 - cmdstanpy - INFO - Chain [1] start processing\n"
     ]
    },
    {
     "name": "stdout",
     "output_type": "stream",
     "text": [
      "0.011928429423459244\n",
      "0.013916500994035786\n",
      "0.015904572564612324\n"
     ]
    },
    {
     "name": "stderr",
     "output_type": "stream",
     "text": [
      "16:17:21 - cmdstanpy - INFO - Chain [1] done processing\n",
      "16:17:21 - cmdstanpy - INFO - Chain [1] start processing\n",
      "16:17:21 - cmdstanpy - INFO - Chain [1] done processing\n",
      "16:17:21 - cmdstanpy - INFO - Chain [1] start processing\n",
      "16:17:21 - cmdstanpy - INFO - Chain [1] done processing\n",
      "16:17:21 - cmdstanpy - INFO - Chain [1] start processing\n",
      "16:17:21 - cmdstanpy - INFO - Chain [1] done processing\n"
     ]
    },
    {
     "name": "stdout",
     "output_type": "stream",
     "text": [
      "0.017892644135188866\n",
      "0.019880715705765408\n",
      "0.02186878727634195\n"
     ]
    },
    {
     "name": "stderr",
     "output_type": "stream",
     "text": [
      "16:17:21 - cmdstanpy - INFO - Chain [1] start processing\n",
      "16:17:21 - cmdstanpy - INFO - Chain [1] done processing\n",
      "16:17:21 - cmdstanpy - INFO - Chain [1] start processing\n",
      "16:17:22 - cmdstanpy - INFO - Chain [1] done processing\n",
      "16:17:22 - cmdstanpy - INFO - Chain [1] start processing\n"
     ]
    },
    {
     "name": "stdout",
     "output_type": "stream",
     "text": [
      "0.02385685884691849\n",
      "0.02584493041749503\n",
      "0.027833001988071572\n"
     ]
    },
    {
     "name": "stderr",
     "output_type": "stream",
     "text": [
      "16:17:22 - cmdstanpy - INFO - Chain [1] done processing\n",
      "16:17:22 - cmdstanpy - INFO - Chain [1] start processing\n",
      "16:17:22 - cmdstanpy - INFO - Chain [1] done processing\n",
      "16:17:22 - cmdstanpy - INFO - Chain [1] start processing\n",
      "16:17:22 - cmdstanpy - INFO - Chain [1] done processing\n",
      "16:17:22 - cmdstanpy - INFO - Chain [1] start processing\n"
     ]
    },
    {
     "name": "stdout",
     "output_type": "stream",
     "text": [
      "0.02982107355864811\n",
      "0.03180914512922465\n",
      "0.033797216699801194\n"
     ]
    },
    {
     "name": "stderr",
     "output_type": "stream",
     "text": [
      "16:17:22 - cmdstanpy - INFO - Chain [1] done processing\n",
      "16:17:22 - cmdstanpy - INFO - Chain [1] start processing\n",
      "16:17:22 - cmdstanpy - INFO - Chain [1] done processing\n",
      "16:17:22 - cmdstanpy - INFO - Chain [1] start processing\n",
      "16:17:22 - cmdstanpy - INFO - Chain [1] done processing\n",
      "16:17:22 - cmdstanpy - INFO - Chain [1] start processing\n",
      "16:17:22 - cmdstanpy - INFO - Chain [1] done processing\n"
     ]
    },
    {
     "name": "stdout",
     "output_type": "stream",
     "text": [
      "0.03578528827037773\n",
      "0.03777335984095427\n",
      "0.039761431411530816\n"
     ]
    },
    {
     "name": "stderr",
     "output_type": "stream",
     "text": [
      "16:17:22 - cmdstanpy - INFO - Chain [1] start processing\n",
      "16:17:22 - cmdstanpy - INFO - Chain [1] done processing\n",
      "16:17:22 - cmdstanpy - INFO - Chain [1] start processing\n",
      "16:17:22 - cmdstanpy - INFO - Chain [1] done processing\n",
      "16:17:22 - cmdstanpy - INFO - Chain [1] start processing\n"
     ]
    },
    {
     "name": "stdout",
     "output_type": "stream",
     "text": [
      "0.041749502982107355\n",
      "0.0437375745526839\n",
      "0.04572564612326044\n"
     ]
    },
    {
     "name": "stderr",
     "output_type": "stream",
     "text": [
      "16:17:22 - cmdstanpy - INFO - Chain [1] done processing\n",
      "16:17:22 - cmdstanpy - INFO - Chain [1] start processing\n",
      "16:17:23 - cmdstanpy - INFO - Chain [1] done processing\n",
      "16:17:23 - cmdstanpy - INFO - Chain [1] start processing\n",
      "16:17:23 - cmdstanpy - INFO - Chain [1] done processing\n"
     ]
    },
    {
     "name": "stdout",
     "output_type": "stream",
     "text": [
      "0.04771371769383698\n",
      "0.04970178926441352\n"
     ]
    },
    {
     "name": "stderr",
     "output_type": "stream",
     "text": [
      "16:17:23 - cmdstanpy - INFO - Chain [1] start processing\n",
      "16:17:23 - cmdstanpy - INFO - Chain [1] done processing\n",
      "16:17:23 - cmdstanpy - INFO - Chain [1] start processing\n",
      "16:17:23 - cmdstanpy - INFO - Chain [1] done processing\n",
      "16:17:23 - cmdstanpy - INFO - Chain [1] start processing\n"
     ]
    },
    {
     "name": "stdout",
     "output_type": "stream",
     "text": [
      "0.05168986083499006\n",
      "0.0536779324055666\n",
      "0.055666003976143144\n"
     ]
    },
    {
     "name": "stderr",
     "output_type": "stream",
     "text": [
      "16:17:23 - cmdstanpy - INFO - Chain [1] done processing\n",
      "16:17:23 - cmdstanpy - INFO - Chain [1] start processing\n",
      "16:17:23 - cmdstanpy - INFO - Chain [1] done processing\n",
      "16:17:23 - cmdstanpy - INFO - Chain [1] start processing\n",
      "16:17:23 - cmdstanpy - INFO - Chain [1] done processing\n",
      "16:17:23 - cmdstanpy - INFO - Chain [1] start processing\n",
      "16:17:23 - cmdstanpy - INFO - Chain [1] done processing\n"
     ]
    },
    {
     "name": "stdout",
     "output_type": "stream",
     "text": [
      "0.05765407554671968\n",
      "0.05964214711729622\n",
      "0.061630218687872766\n"
     ]
    },
    {
     "name": "stderr",
     "output_type": "stream",
     "text": [
      "16:17:23 - cmdstanpy - INFO - Chain [1] start processing\n",
      "16:17:23 - cmdstanpy - INFO - Chain [1] done processing\n",
      "16:17:23 - cmdstanpy - INFO - Chain [1] start processing\n",
      "16:17:23 - cmdstanpy - INFO - Chain [1] done processing\n",
      "16:17:23 - cmdstanpy - INFO - Chain [1] start processing\n"
     ]
    },
    {
     "name": "stdout",
     "output_type": "stream",
     "text": [
      "0.0636182902584493\n",
      "0.06560636182902585\n",
      "0.06759443339960239\n"
     ]
    },
    {
     "name": "stderr",
     "output_type": "stream",
     "text": [
      "16:17:23 - cmdstanpy - INFO - Chain [1] done processing\n",
      "16:17:23 - cmdstanpy - INFO - Chain [1] start processing\n",
      "16:17:23 - cmdstanpy - INFO - Chain [1] done processing\n",
      "16:17:23 - cmdstanpy - INFO - Chain [1] start processing\n",
      "16:17:23 - cmdstanpy - INFO - Chain [1] done processing\n",
      "16:17:24 - cmdstanpy - INFO - Chain [1] start processing\n"
     ]
    },
    {
     "name": "stdout",
     "output_type": "stream",
     "text": [
      "0.06958250497017893\n",
      "0.07157057654075547\n",
      "0.073558648111332\n"
     ]
    },
    {
     "name": "stderr",
     "output_type": "stream",
     "text": [
      "16:17:24 - cmdstanpy - INFO - Chain [1] done processing\n",
      "16:17:24 - cmdstanpy - INFO - Chain [1] start processing\n",
      "16:17:24 - cmdstanpy - INFO - Chain [1] done processing\n",
      "16:17:24 - cmdstanpy - INFO - Chain [1] start processing\n",
      "16:17:24 - cmdstanpy - INFO - Chain [1] done processing\n",
      "16:17:24 - cmdstanpy - INFO - Chain [1] start processing\n",
      "16:17:24 - cmdstanpy - INFO - Chain [1] done processing\n"
     ]
    },
    {
     "name": "stdout",
     "output_type": "stream",
     "text": [
      "0.07554671968190854\n",
      "0.0775347912524851\n",
      "0.07952286282306163\n"
     ]
    },
    {
     "name": "stderr",
     "output_type": "stream",
     "text": [
      "16:17:24 - cmdstanpy - INFO - Chain [1] start processing\n",
      "16:17:24 - cmdstanpy - INFO - Chain [1] done processing\n",
      "16:17:24 - cmdstanpy - INFO - Chain [1] start processing\n",
      "16:17:24 - cmdstanpy - INFO - Chain [1] done processing\n",
      "16:17:24 - cmdstanpy - INFO - Chain [1] start processing\n",
      "16:17:24 - cmdstanpy - INFO - Chain [1] done processing\n"
     ]
    },
    {
     "name": "stdout",
     "output_type": "stream",
     "text": [
      "0.08151093439363817\n",
      "0.08349900596421471\n",
      "0.08548707753479125\n"
     ]
    },
    {
     "name": "stderr",
     "output_type": "stream",
     "text": [
      "16:17:24 - cmdstanpy - INFO - Chain [1] start processing\n",
      "16:17:24 - cmdstanpy - INFO - Chain [1] done processing\n",
      "16:17:24 - cmdstanpy - INFO - Chain [1] start processing\n",
      "16:17:24 - cmdstanpy - INFO - Chain [1] done processing\n",
      "16:17:24 - cmdstanpy - INFO - Chain [1] start processing\n",
      "16:17:24 - cmdstanpy - INFO - Chain [1] done processing\n"
     ]
    },
    {
     "name": "stdout",
     "output_type": "stream",
     "text": [
      "0.0874751491053678\n",
      "0.08946322067594434\n",
      "0.09145129224652088\n"
     ]
    },
    {
     "name": "stderr",
     "output_type": "stream",
     "text": [
      "16:17:24 - cmdstanpy - INFO - Chain [1] start processing\n",
      "16:17:24 - cmdstanpy - INFO - Chain [1] done processing\n",
      "16:17:24 - cmdstanpy - INFO - Chain [1] start processing\n",
      "16:17:24 - cmdstanpy - INFO - Chain [1] done processing\n"
     ]
    },
    {
     "name": "stdout",
     "output_type": "stream",
     "text": [
      "0.09343936381709742\n",
      "0.09542743538767395\n"
     ]
    },
    {
     "name": "stderr",
     "output_type": "stream",
     "text": [
      "16:17:25 - cmdstanpy - INFO - Chain [1] start processing\n",
      "16:17:25 - cmdstanpy - INFO - Chain [1] done processing\n",
      "16:17:25 - cmdstanpy - INFO - Chain [1] start processing\n",
      "16:17:25 - cmdstanpy - INFO - Chain [1] done processing\n",
      "16:17:25 - cmdstanpy - INFO - Chain [1] start processing\n"
     ]
    },
    {
     "name": "stdout",
     "output_type": "stream",
     "text": [
      "0.09741550695825049\n",
      "0.09940357852882704\n",
      "0.10139165009940358\n"
     ]
    },
    {
     "name": "stderr",
     "output_type": "stream",
     "text": [
      "16:17:25 - cmdstanpy - INFO - Chain [1] done processing\n",
      "16:17:25 - cmdstanpy - INFO - Chain [1] start processing\n",
      "16:17:25 - cmdstanpy - INFO - Chain [1] done processing\n",
      "16:17:25 - cmdstanpy - INFO - Chain [1] start processing\n",
      "16:17:25 - cmdstanpy - INFO - Chain [1] done processing\n",
      "16:17:25 - cmdstanpy - INFO - Chain [1] start processing\n"
     ]
    },
    {
     "name": "stdout",
     "output_type": "stream",
     "text": [
      "0.10337972166998012\n",
      "0.10536779324055666\n",
      "0.1073558648111332\n"
     ]
    },
    {
     "name": "stderr",
     "output_type": "stream",
     "text": [
      "16:17:25 - cmdstanpy - INFO - Chain [1] done processing\n",
      "16:17:25 - cmdstanpy - INFO - Chain [1] start processing\n",
      "16:17:25 - cmdstanpy - INFO - Chain [1] done processing\n",
      "16:17:25 - cmdstanpy - INFO - Chain [1] start processing\n",
      "16:17:25 - cmdstanpy - INFO - Chain [1] done processing\n",
      "16:17:25 - cmdstanpy - INFO - Chain [1] start processing\n",
      "16:17:25 - cmdstanpy - INFO - Chain [1] done processing\n"
     ]
    },
    {
     "name": "stdout",
     "output_type": "stream",
     "text": [
      "0.10934393638170974\n",
      "0.11133200795228629\n",
      "0.11332007952286283\n"
     ]
    },
    {
     "name": "stderr",
     "output_type": "stream",
     "text": [
      "16:17:25 - cmdstanpy - INFO - Chain [1] start processing\n",
      "16:17:25 - cmdstanpy - INFO - Chain [1] done processing\n",
      "16:17:25 - cmdstanpy - INFO - Chain [1] start processing\n",
      "16:17:25 - cmdstanpy - INFO - Chain [1] done processing\n",
      "16:17:25 - cmdstanpy - INFO - Chain [1] start processing\n",
      "16:17:25 - cmdstanpy - INFO - Chain [1] done processing\n"
     ]
    },
    {
     "name": "stdout",
     "output_type": "stream",
     "text": [
      "0.11530815109343936\n",
      "0.1172962226640159\n",
      "0.11928429423459244\n"
     ]
    },
    {
     "name": "stderr",
     "output_type": "stream",
     "text": [
      "16:17:26 - cmdstanpy - INFO - Chain [1] start processing\n",
      "16:17:26 - cmdstanpy - INFO - Chain [1] done processing\n",
      "16:17:26 - cmdstanpy - INFO - Chain [1] start processing\n",
      "16:17:26 - cmdstanpy - INFO - Chain [1] done processing\n",
      "16:17:26 - cmdstanpy - INFO - Chain [1] start processing\n",
      "16:17:26 - cmdstanpy - INFO - Chain [1] done processing\n"
     ]
    },
    {
     "name": "stdout",
     "output_type": "stream",
     "text": [
      "0.12127236580516898\n",
      "0.12326043737574553\n",
      "0.12524850894632206\n"
     ]
    },
    {
     "name": "stderr",
     "output_type": "stream",
     "text": [
      "16:17:26 - cmdstanpy - INFO - Chain [1] start processing\n",
      "16:17:26 - cmdstanpy - INFO - Chain [1] done processing\n",
      "16:17:26 - cmdstanpy - INFO - Chain [1] start processing\n",
      "16:17:26 - cmdstanpy - INFO - Chain [1] done processing\n",
      "16:17:26 - cmdstanpy - INFO - Chain [1] start processing\n",
      "16:17:26 - cmdstanpy - INFO - Chain [1] done processing\n"
     ]
    },
    {
     "name": "stdout",
     "output_type": "stream",
     "text": [
      "0.1272365805168986\n",
      "0.12922465208747516\n",
      "0.1312127236580517\n"
     ]
    },
    {
     "name": "stderr",
     "output_type": "stream",
     "text": [
      "16:17:26 - cmdstanpy - INFO - Chain [1] start processing\n",
      "16:17:26 - cmdstanpy - INFO - Chain [1] done processing\n",
      "16:17:26 - cmdstanpy - INFO - Chain [1] start processing\n",
      "16:17:26 - cmdstanpy - INFO - Chain [1] done processing\n",
      "16:17:26 - cmdstanpy - INFO - Chain [1] start processing\n",
      "16:17:26 - cmdstanpy - INFO - Chain [1] done processing\n"
     ]
    },
    {
     "name": "stdout",
     "output_type": "stream",
     "text": [
      "0.13320079522862824\n",
      "0.13518886679920478\n",
      "0.13717693836978131\n"
     ]
    },
    {
     "name": "stderr",
     "output_type": "stream",
     "text": [
      "16:17:26 - cmdstanpy - INFO - Chain [1] start processing\n",
      "16:17:26 - cmdstanpy - INFO - Chain [1] done processing\n",
      "16:17:26 - cmdstanpy - INFO - Chain [1] start processing\n",
      "16:17:26 - cmdstanpy - INFO - Chain [1] done processing\n",
      "16:17:26 - cmdstanpy - INFO - Chain [1] start processing\n"
     ]
    },
    {
     "name": "stdout",
     "output_type": "stream",
     "text": [
      "0.13916500994035785\n",
      "0.1411530815109344\n",
      "0.14314115308151093\n"
     ]
    },
    {
     "name": "stderr",
     "output_type": "stream",
     "text": [
      "16:17:26 - cmdstanpy - INFO - Chain [1] done processing\n",
      "16:17:26 - cmdstanpy - INFO - Chain [1] start processing\n",
      "16:17:27 - cmdstanpy - INFO - Chain [1] done processing\n",
      "16:17:27 - cmdstanpy - INFO - Chain [1] start processing\n",
      "16:17:27 - cmdstanpy - INFO - Chain [1] done processing\n",
      "16:17:27 - cmdstanpy - INFO - Chain [1] start processing\n",
      "16:17:27 - cmdstanpy - INFO - Chain [1] done processing\n"
     ]
    },
    {
     "name": "stdout",
     "output_type": "stream",
     "text": [
      "0.14512922465208747\n",
      "0.147117296222664\n",
      "0.14910536779324055\n"
     ]
    },
    {
     "name": "stderr",
     "output_type": "stream",
     "text": [
      "16:17:27 - cmdstanpy - INFO - Chain [1] start processing\n",
      "16:17:27 - cmdstanpy - INFO - Chain [1] done processing\n",
      "16:17:27 - cmdstanpy - INFO - Chain [1] start processing\n",
      "16:17:27 - cmdstanpy - INFO - Chain [1] done processing\n",
      "16:17:27 - cmdstanpy - INFO - Chain [1] start processing\n"
     ]
    },
    {
     "name": "stdout",
     "output_type": "stream",
     "text": [
      "0.15109343936381708\n",
      "0.15308151093439365\n",
      "0.1550695825049702\n"
     ]
    },
    {
     "name": "stderr",
     "output_type": "stream",
     "text": [
      "16:17:27 - cmdstanpy - INFO - Chain [1] done processing\n",
      "16:17:27 - cmdstanpy - INFO - Chain [1] start processing\n",
      "16:17:27 - cmdstanpy - INFO - Chain [1] done processing\n",
      "16:17:27 - cmdstanpy - INFO - Chain [1] start processing\n",
      "16:17:27 - cmdstanpy - INFO - Chain [1] done processing\n",
      "16:17:27 - cmdstanpy - INFO - Chain [1] start processing\n"
     ]
    },
    {
     "name": "stdout",
     "output_type": "stream",
     "text": [
      "0.15705765407554673\n",
      "0.15904572564612326\n",
      "0.1610337972166998\n"
     ]
    },
    {
     "name": "stderr",
     "output_type": "stream",
     "text": [
      "16:17:27 - cmdstanpy - INFO - Chain [1] done processing\n",
      "16:17:27 - cmdstanpy - INFO - Chain [1] start processing\n",
      "16:17:27 - cmdstanpy - INFO - Chain [1] done processing\n",
      "16:17:27 - cmdstanpy - INFO - Chain [1] start processing\n",
      "16:17:27 - cmdstanpy - INFO - Chain [1] done processing\n",
      "16:17:27 - cmdstanpy - INFO - Chain [1] start processing\n",
      "16:17:27 - cmdstanpy - INFO - Chain [1] done processing\n"
     ]
    },
    {
     "name": "stdout",
     "output_type": "stream",
     "text": [
      "0.16302186878727634\n",
      "0.16500994035785288\n",
      "0.16699801192842942\n"
     ]
    },
    {
     "name": "stderr",
     "output_type": "stream",
     "text": [
      "16:17:27 - cmdstanpy - INFO - Chain [1] start processing\n",
      "16:17:28 - cmdstanpy - INFO - Chain [1] done processing\n",
      "16:17:28 - cmdstanpy - INFO - Chain [1] start processing\n",
      "16:17:28 - cmdstanpy - INFO - Chain [1] done processing\n",
      "16:17:28 - cmdstanpy - INFO - Chain [1] start processing\n",
      "16:17:28 - cmdstanpy - INFO - Chain [1] done processing\n"
     ]
    },
    {
     "name": "stdout",
     "output_type": "stream",
     "text": [
      "0.16898608349900596\n",
      "0.1709741550695825\n",
      "0.17296222664015903\n"
     ]
    },
    {
     "name": "stderr",
     "output_type": "stream",
     "text": [
      "16:17:28 - cmdstanpy - INFO - Chain [1] start processing\n",
      "16:17:28 - cmdstanpy - INFO - Chain [1] done processing\n",
      "16:17:28 - cmdstanpy - INFO - Chain [1] start processing\n",
      "16:17:28 - cmdstanpy - INFO - Chain [1] done processing\n",
      "16:17:28 - cmdstanpy - INFO - Chain [1] start processing\n",
      "16:17:28 - cmdstanpy - INFO - Chain [1] done processing\n"
     ]
    },
    {
     "name": "stdout",
     "output_type": "stream",
     "text": [
      "0.1749502982107356\n",
      "0.17693836978131214\n",
      "0.17892644135188868\n"
     ]
    },
    {
     "name": "stderr",
     "output_type": "stream",
     "text": [
      "16:17:28 - cmdstanpy - INFO - Chain [1] start processing\n",
      "16:17:28 - cmdstanpy - INFO - Chain [1] done processing\n",
      "16:17:28 - cmdstanpy - INFO - Chain [1] start processing\n",
      "16:17:28 - cmdstanpy - INFO - Chain [1] done processing\n",
      "16:17:28 - cmdstanpy - INFO - Chain [1] start processing\n"
     ]
    },
    {
     "name": "stdout",
     "output_type": "stream",
     "text": [
      "0.18091451292246521\n",
      "0.18290258449304175\n",
      "0.1848906560636183\n"
     ]
    },
    {
     "name": "stderr",
     "output_type": "stream",
     "text": [
      "16:17:28 - cmdstanpy - INFO - Chain [1] done processing\n",
      "16:17:28 - cmdstanpy - INFO - Chain [1] start processing\n",
      "16:17:28 - cmdstanpy - INFO - Chain [1] done processing\n",
      "16:17:28 - cmdstanpy - INFO - Chain [1] start processing\n",
      "16:17:28 - cmdstanpy - INFO - Chain [1] done processing\n",
      "16:17:28 - cmdstanpy - INFO - Chain [1] start processing\n"
     ]
    },
    {
     "name": "stdout",
     "output_type": "stream",
     "text": [
      "0.18687872763419483\n",
      "0.18886679920477137\n",
      "0.1908548707753479\n"
     ]
    },
    {
     "name": "stderr",
     "output_type": "stream",
     "text": [
      "16:17:28 - cmdstanpy - INFO - Chain [1] done processing\n",
      "16:17:28 - cmdstanpy - INFO - Chain [1] start processing\n",
      "16:17:28 - cmdstanpy - INFO - Chain [1] done processing\n",
      "16:17:29 - cmdstanpy - INFO - Chain [1] start processing\n",
      "16:17:29 - cmdstanpy - INFO - Chain [1] done processing\n",
      "16:17:29 - cmdstanpy - INFO - Chain [1] start processing\n",
      "16:17:29 - cmdstanpy - INFO - Chain [1] done processing\n"
     ]
    },
    {
     "name": "stdout",
     "output_type": "stream",
     "text": [
      "0.19284294234592445\n",
      "0.19483101391650098\n",
      "0.19681908548707752\n"
     ]
    },
    {
     "name": "stderr",
     "output_type": "stream",
     "text": [
      "16:17:29 - cmdstanpy - INFO - Chain [1] start processing\n",
      "16:17:29 - cmdstanpy - INFO - Chain [1] done processing\n",
      "16:17:29 - cmdstanpy - INFO - Chain [1] start processing\n",
      "16:17:29 - cmdstanpy - INFO - Chain [1] done processing\n",
      "16:17:29 - cmdstanpy - INFO - Chain [1] start processing\n",
      "16:17:29 - cmdstanpy - INFO - Chain [1] done processing\n"
     ]
    },
    {
     "name": "stdout",
     "output_type": "stream",
     "text": [
      "0.1988071570576541\n",
      "0.20079522862823063\n",
      "0.20278330019880716\n"
     ]
    },
    {
     "name": "stderr",
     "output_type": "stream",
     "text": [
      "16:17:29 - cmdstanpy - INFO - Chain [1] start processing\n",
      "16:17:29 - cmdstanpy - INFO - Chain [1] done processing\n",
      "16:17:29 - cmdstanpy - INFO - Chain [1] start processing\n",
      "16:17:29 - cmdstanpy - INFO - Chain [1] done processing\n",
      "16:17:29 - cmdstanpy - INFO - Chain [1] start processing\n",
      "16:17:29 - cmdstanpy - INFO - Chain [1] done processing\n"
     ]
    },
    {
     "name": "stdout",
     "output_type": "stream",
     "text": [
      "0.2047713717693837\n",
      "0.20675944333996024\n",
      "0.20874751491053678\n"
     ]
    },
    {
     "name": "stderr",
     "output_type": "stream",
     "text": [
      "16:17:29 - cmdstanpy - INFO - Chain [1] start processing\n",
      "16:17:29 - cmdstanpy - INFO - Chain [1] done processing\n",
      "16:17:29 - cmdstanpy - INFO - Chain [1] start processing\n",
      "16:17:29 - cmdstanpy - INFO - Chain [1] done processing\n"
     ]
    },
    {
     "name": "stdout",
     "output_type": "stream",
     "text": [
      "0.21073558648111332\n",
      "0.21272365805168986\n",
      "0.2147117296222664\n"
     ]
    },
    {
     "ename": "ValueError",
     "evalue": "Dataframe has less than 2 non-NaN rows.",
     "output_type": "error",
     "traceback": [
      "\u001b[0;31m---------------------------------------------------------------------------\u001b[0m",
      "\u001b[0;31mValueError\u001b[0m                                Traceback (most recent call last)",
      "Cell \u001b[0;32mIn[57], line 17\u001b[0m\n\u001b[1;32m     13\u001b[0m stock_data\u001b[38;5;241m.\u001b[39mcolumns \u001b[38;5;241m=\u001b[39m [\u001b[38;5;124m'\u001b[39m\u001b[38;5;124mds\u001b[39m\u001b[38;5;124m'\u001b[39m, \u001b[38;5;124m'\u001b[39m\u001b[38;5;124my\u001b[39m\u001b[38;5;124m'\u001b[39m]\n\u001b[1;32m     15\u001b[0m m \u001b[38;5;241m=\u001b[39m Prophet()\n\u001b[0;32m---> 17\u001b[0m \u001b[43mm\u001b[49m\u001b[38;5;241;43m.\u001b[39;49m\u001b[43mfit\u001b[49m\u001b[43m(\u001b[49m\u001b[43mstock_data\u001b[49m\u001b[43m)\u001b[49m\n\u001b[1;32m     19\u001b[0m future \u001b[38;5;241m=\u001b[39m m\u001b[38;5;241m.\u001b[39mmake_future_dataframe(periods\u001b[38;5;241m=\u001b[39m\u001b[38;5;241m14\u001b[39m)\n\u001b[1;32m     21\u001b[0m forecast \u001b[38;5;241m=\u001b[39m m\u001b[38;5;241m.\u001b[39mpredict(future)\n",
      "File \u001b[0;32m/Library/Frameworks/Python.framework/Versions/3.13/lib/python3.13/site-packages/prophet/forecaster.py:1217\u001b[0m, in \u001b[0;36mProphet.fit\u001b[0;34m(self, df, **kwargs)\u001b[0m\n\u001b[1;32m   1213\u001b[0m \u001b[38;5;28;01mif\u001b[39;00m \u001b[38;5;28mself\u001b[39m\u001b[38;5;241m.\u001b[39mhistory \u001b[38;5;129;01mis\u001b[39;00m \u001b[38;5;129;01mnot\u001b[39;00m \u001b[38;5;28;01mNone\u001b[39;00m:\n\u001b[1;32m   1214\u001b[0m     \u001b[38;5;28;01mraise\u001b[39;00m \u001b[38;5;167;01mException\u001b[39;00m(\u001b[38;5;124m'\u001b[39m\u001b[38;5;124mProphet object can only be fit once. \u001b[39m\u001b[38;5;124m'\u001b[39m\n\u001b[1;32m   1215\u001b[0m                     \u001b[38;5;124m'\u001b[39m\u001b[38;5;124mInstantiate a new object.\u001b[39m\u001b[38;5;124m'\u001b[39m)\n\u001b[0;32m-> 1217\u001b[0m model_inputs \u001b[38;5;241m=\u001b[39m \u001b[38;5;28;43mself\u001b[39;49m\u001b[38;5;241;43m.\u001b[39;49m\u001b[43mpreprocess\u001b[49m\u001b[43m(\u001b[49m\u001b[43mdf\u001b[49m\u001b[43m,\u001b[49m\u001b[43m \u001b[49m\u001b[38;5;241;43m*\u001b[39;49m\u001b[38;5;241;43m*\u001b[39;49m\u001b[43mkwargs\u001b[49m\u001b[43m)\u001b[49m\n\u001b[1;32m   1218\u001b[0m initial_params \u001b[38;5;241m=\u001b[39m \u001b[38;5;28mself\u001b[39m\u001b[38;5;241m.\u001b[39mcalculate_initial_params(model_inputs\u001b[38;5;241m.\u001b[39mK)\n\u001b[1;32m   1220\u001b[0m dat \u001b[38;5;241m=\u001b[39m dataclasses\u001b[38;5;241m.\u001b[39masdict(model_inputs)\n",
      "File \u001b[0;32m/Library/Frameworks/Python.framework/Versions/3.13/lib/python3.13/site-packages/prophet/forecaster.py:1132\u001b[0m, in \u001b[0;36mProphet.preprocess\u001b[0;34m(self, df, **kwargs)\u001b[0m\n\u001b[1;32m   1130\u001b[0m history \u001b[38;5;241m=\u001b[39m df[df[\u001b[38;5;124m'\u001b[39m\u001b[38;5;124my\u001b[39m\u001b[38;5;124m'\u001b[39m]\u001b[38;5;241m.\u001b[39mnotnull()]\u001b[38;5;241m.\u001b[39mcopy()\n\u001b[1;32m   1131\u001b[0m \u001b[38;5;28;01mif\u001b[39;00m history\u001b[38;5;241m.\u001b[39mshape[\u001b[38;5;241m0\u001b[39m] \u001b[38;5;241m<\u001b[39m \u001b[38;5;241m2\u001b[39m:\n\u001b[0;32m-> 1132\u001b[0m     \u001b[38;5;28;01mraise\u001b[39;00m \u001b[38;5;167;01mValueError\u001b[39;00m(\u001b[38;5;124m'\u001b[39m\u001b[38;5;124mDataframe has less than 2 non-NaN rows.\u001b[39m\u001b[38;5;124m'\u001b[39m)\n\u001b[1;32m   1133\u001b[0m \u001b[38;5;28mself\u001b[39m\u001b[38;5;241m.\u001b[39mhistory_dates \u001b[38;5;241m=\u001b[39m pd\u001b[38;5;241m.\u001b[39mto_datetime(pd\u001b[38;5;241m.\u001b[39mSeries(df[\u001b[38;5;124m'\u001b[39m\u001b[38;5;124mds\u001b[39m\u001b[38;5;124m'\u001b[39m]\u001b[38;5;241m.\u001b[39munique(), name\u001b[38;5;241m=\u001b[39m\u001b[38;5;124m'\u001b[39m\u001b[38;5;124mds\u001b[39m\u001b[38;5;124m'\u001b[39m))\u001b[38;5;241m.\u001b[39msort_values()\n\u001b[1;32m   1135\u001b[0m \u001b[38;5;28mself\u001b[39m\u001b[38;5;241m.\u001b[39mhistory \u001b[38;5;241m=\u001b[39m \u001b[38;5;28mself\u001b[39m\u001b[38;5;241m.\u001b[39msetup_dataframe(history, initialize_scales\u001b[38;5;241m=\u001b[39m\u001b[38;5;28;01mTrue\u001b[39;00m)\n",
      "\u001b[0;31mValueError\u001b[0m: Dataframe has less than 2 non-NaN rows."
     ]
    }
   ],
   "source": [
    "ticker_list = ticker_list_df['Ticker'].to_list()\n",
    "\n",
    "final = pd.DataFrame()\n",
    "\n",
    "total = len(ticker_list)\n",
    "\n",
    "for num, ticker in enumerate(ticker_list):\n",
    "    \n",
    "    print(num / total)\n",
    "    \n",
    "    stock_data = data[data['Ticker'] == ticker][['Date', 'Close']].reset_index(drop = True)\n",
    "    \n",
    "    stock_data.columns = ['ds', 'y']\n",
    "    \n",
    "    m = Prophet()\n",
    "    \n",
    "    m.fit(stock_data)\n",
    "    \n",
    "    future = m.make_future_dataframe(periods=14)\n",
    "    \n",
    "    forecast = m.predict(future)\n",
    "    \n",
    "    forecast = forecast[['ds', 'yhat', 'yhat_lower', 'yhat_upper']].tail(14)\n",
    "    \n",
    "    forecast['ticker'] = ticker\n",
    "    \n",
    "    final = pd.concat([forecast, final])\n"
   ]
  },
  {
   "cell_type": "code",
   "execution_count": 58,
   "metadata": {},
   "outputs": [],
   "source": [
    "def fizzBuzz(n):\n",
    "    if (n % 3 == 0) & (n % 5 == 0):\n",
    "        print('FizzBuzz')\n",
    "    elif n % 3 == 0 & (n % 5 != 0):\n",
    "        print('Fizz')\n",
    "    elif n % 3 != 0 & (n % 5 == 0):\n",
    "        print('Buzz')\n",
    "    elif n % 3 != 0 & (n % 5 !=0):\n",
    "        print(n)"
   ]
  },
  {
   "cell_type": "code",
   "execution_count": 59,
   "metadata": {},
   "outputs": [
    {
     "name": "stdout",
     "output_type": "stream",
     "text": [
      "FizzBuzz\n"
     ]
    }
   ],
   "source": [
    "fizzBuzz(15)"
   ]
  },
  {
   "cell_type": "code",
   "execution_count": 60,
   "metadata": {},
   "outputs": [
    {
     "name": "stdout",
     "output_type": "stream",
     "text": [
      "[[0, 0, 0], [0, 0, 1], [0, 0, 2], [0, 1, 0], [0, 1, 1], [1, 0, 0], [1, 0, 1], [1, 1, 0], [1, 1, 2]]\n"
     ]
    }
   ],
   "source": [
    "x = 1\n",
    "y = 1\n",
    "z = 2\n",
    "n = 3\n",
    "print(list([i,j,k] for i in range(x+1) for j in range(y+1) for k in range(z+1)  if i+j+k !=n))"
   ]
  },
  {
   "cell_type": "code",
   "execution_count": 61,
   "metadata": {},
   "outputs": [
    {
     "name": "stdout",
     "output_type": "stream",
     "text": [
      "0\n",
      "1\n"
     ]
    }
   ],
   "source": [
    "for i in range(x+1):\n",
    "    print(i)"
   ]
  },
  {
   "cell_type": "code",
   "execution_count": null,
   "metadata": {},
   "outputs": [
    {
     "name": "stdout",
     "output_type": "stream",
     "text": [
      "awesome is Python\n"
     ]
    }
   ],
   "source": [
    "man = \"Python is awesome\"\n",
    "\n",
    "def funk(man):\n",
    "    \n",
    "    cars = man.split(' ')\n",
    "    \n",
    "    final = []\n",
    "    \n",
    "    for num in range(1, len(cars) + 1):\n",
    "        \n",
    "        final.append(cars[num * -1])\n",
    "        \n",
    "    print(' '.join(final))\n",
    "        \n",
    "funk(man)"
   ]
  },
  {
   "cell_type": "code",
   "execution_count": null,
   "metadata": {},
   "outputs": [
    {
     "name": "stdout",
     "output_type": "stream",
     "text": [
      "{10: 4, 20: 3, 50: 1, 30: 1}\n",
      "2\n",
      "1\n"
     ]
    },
    {
     "data": {
      "text/plain": [
       "3"
      ]
     },
     "execution_count": 96,
     "metadata": {},
     "output_type": "execute_result"
    }
   ],
   "source": [
    "def sockMerchant( ar):\n",
    "    dic = dict.fromkeys(set(ar))\n",
    "    \n",
    "    for val in dic.keys():\n",
    "        dic[val] = 0\n",
    "    \n",
    "    for sub_val in ar:\n",
    "        for val in dic.keys():\n",
    "        \n",
    "            if val == sub_val:\n",
    "                dic[val] = dic[val] + 1\n",
    "    \n",
    "    blue = 0 \n",
    "    \n",
    "    for cars in dic.keys():\n",
    "        if dic[cars] > 1:\n",
    "            if ((dic[cars] % 2 == 0) or (dic[cars] % 2 == 1)):\n",
    "                \n",
    "                blue += int(dic[cars] / 2)\n",
    "    return blue\n",
    "                \n",
    "sockMerchant([10, 20 ,20, 10, 10, 30, 50, 10, 20])"
   ]
  },
  {
   "cell_type": "code",
   "execution_count": 118,
   "metadata": {},
   "outputs": [],
   "source": [
    "import re"
   ]
  },
  {
   "cell_type": "code",
   "execution_count": null,
   "metadata": {},
   "outputs": [
    {
     "name": "stdout",
     "output_type": "stream",
     "text": [
      "1\n"
     ]
    }
   ],
   "source": [
    "def alternatingCharacters(s):\n",
    "    if len(set(s)) == 1:\n",
    "        return len(s) - 1\n",
    "    #elif len(s) % s.count('AB') == 0 or len(s) % s.count('BA'):\n",
    "    #    return 0\n",
    "    else:\n",
    "        print(s.count('AA'))\n",
    "   \n",
    "        \n",
    "    \n",
    "    \n",
    "alternatingCharacters()"
   ]
  },
  {
   "cell_type": "code",
   "execution_count": null,
   "metadata": {},
   "outputs": [
    {
     "data": {
      "text/plain": [
       "['AA']"
      ]
     },
     "execution_count": 119,
     "metadata": {},
     "output_type": "execute_result"
    }
   ],
   "source": [
    "s = 'AAABBB'\n",
    "for num, letter in enumerate(s):\n",
    "    print()"
   ]
  },
  {
   "cell_type": "code",
   "execution_count": null,
   "metadata": {},
   "outputs": [],
   "source": []
  }
 ],
 "metadata": {
  "kernelspec": {
   "display_name": "Python 3",
   "language": "python",
   "name": "python3"
  },
  "language_info": {
   "codemirror_mode": {
    "name": "ipython",
    "version": 3
   },
   "file_extension": ".py",
   "mimetype": "text/x-python",
   "name": "python",
   "nbconvert_exporter": "python",
   "pygments_lexer": "ipython3",
   "version": "3.13.0"
  }
 },
 "nbformat": 4,
 "nbformat_minor": 2
}
