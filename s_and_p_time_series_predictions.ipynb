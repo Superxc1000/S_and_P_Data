{
 "cells": [
  {
   "cell_type": "code",
   "execution_count": null,
   "metadata": {},
   "outputs": [],
   "source": [
    "import pandas as pd\n",
    "import sqlite3\n",
    "from prophet import Prophet # type: ignore"
   ]
  },
  {
   "cell_type": "code",
   "execution_count": null,
   "metadata": {},
   "outputs": [],
   "source": [
    "conn = sqlite3.connect('./data/trader_data.db')\n",
    "\n",
    "query = \"\"\"SELECT \n",
    "                 ticker\n",
    "                ,ROUND(close, 2) as Close\n",
    "                ,DATE(Date) AS Date\n",
    "                ,GICSSector\n",
    "                ,GICSSectorSub\n",
    "                 CompanyName\n",
    "            FROM equity \n",
    "            WHERE (1=1)\n",
    "                AND Date > '2024-01-01'\n",
    "                AND close IS NOT NULL\"\"\"\n",
    "\n",
    "data = pd.read_sql_query(query, conn)\n",
    "\n",
    "ticker_list_df = pd.read_sql_query(\"SELECT DISTINCT ticker FROM equity\", conn)"
   ]
  },
  {
   "cell_type": "code",
   "execution_count": null,
   "metadata": {},
   "outputs": [],
   "source": [
    "ticker_list = ticker_list_df['Ticker'].to_list()\n",
    "\n",
    "final = pd.DataFrame()\n",
    "\n",
    "total = len(ticker_list)\n",
    "\n",
    "for num, ticker in enumerate(ticker_list):\n",
    "    \n",
    "    print(num / total)\n",
    "    \n",
    "    stock_data = data[data['Ticker'] == ticker][['Date', 'Close']].reset_index(drop = True)\n",
    "    \n",
    "    stock_data.columns = ['ds', 'y']\n",
    "    \n",
    "    m = Prophet()\n",
    "    \n",
    "    m.fit(stock_data)\n",
    "    \n",
    "    future = m.make_future_dataframe(periods=14)\n",
    "    \n",
    "    forecast = m.predict(future)\n",
    "    \n",
    "    forecast = forecast[['ds', 'yhat', 'yhat_lower', 'yhat_upper']].tail(14)\n",
    "    \n",
    "    forecast['ticker'] = ticker\n",
    "    \n",
    "    final = pd.concat([forecast, final])\n"
   ]
  }
 ],
 "metadata": {
  "kernelspec": {
   "display_name": "Python 3",
   "language": "python",
   "name": "python3"
  },
  "language_info": {
   "codemirror_mode": {
    "name": "ipython",
    "version": 3
   },
   "file_extension": ".py",
   "mimetype": "text/x-python",
   "name": "python",
   "nbconvert_exporter": "python",
   "pygments_lexer": "ipython3",
   "version": "3.13.0"
  }
 },
 "nbformat": 4,
 "nbformat_minor": 2
}
